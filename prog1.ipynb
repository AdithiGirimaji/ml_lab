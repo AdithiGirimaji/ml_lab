{
 "cells": [
  {
   "cell_type": "code",
   "execution_count": 16,
   "id": "92656613",
   "metadata": {},
   "outputs": [
    {
     "name": "stdout",
     "output_type": "stream",
     "text": [
      "Hypothesis: ['sunny' 'warm' '?' 'strong' '?' '?']\n"
     ]
    }
   ],
   "source": [
    "import pandas as pd\n",
    "import numpy as np\n",
    "\n",
    "data = pd.read_csv(r\"C:\\Users\\admin\\Desktop\\ml lab\\data.csv\")\n",
    " \n",
    "attributes = np.array(data)[:,:-1]\n",
    " \n",
    "target = np.array(data)[:,-1]\n",
    "\n",
    "specHypo=list()\n",
    " \n",
    "def findS(a,t):\n",
    "    for i, val in enumerate(t):\n",
    "        if val == \"yes\":\n",
    "            specHypo = a[i].copy()\n",
    "            break\n",
    "             \n",
    "    for i, val in enumerate(a):\n",
    "        if t[i] == \"yes\":\n",
    "            for j in range(len(specHypo)):\n",
    "                if val[j] != specHypo[j]:\n",
    "                    specHypo[j] = '?'\n",
    "                else:\n",
    "                    continue\n",
    "                    \n",
    "    return specHypo\n",
    " \n",
    "print(\"Hypothesis:\",findS(attributes,target))"
   ]
  },
  {
   "cell_type": "code",
   "execution_count": null,
   "id": "8dc75bc5",
   "metadata": {},
   "outputs": [],
   "source": []
  }
 ],
 "metadata": {
  "kernelspec": {
   "display_name": "Python 3 (ipykernel)",
   "language": "python",
   "name": "python3"
  },
  "language_info": {
   "codemirror_mode": {
    "name": "ipython",
    "version": 3
   },
   "file_extension": ".py",
   "mimetype": "text/x-python",
   "name": "python",
   "nbconvert_exporter": "python",
   "pygments_lexer": "ipython3",
   "version": "3.9.7"
  }
 },
 "nbformat": 4,
 "nbformat_minor": 5
}
